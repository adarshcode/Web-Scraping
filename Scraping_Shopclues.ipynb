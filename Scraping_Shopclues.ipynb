{
  "nbformat": 4,
  "nbformat_minor": 0,
  "metadata": {
    "colab": {
      "name": "Scraping Shopclues.ipynb",
      "provenance": [],
      "collapsed_sections": []
    },
    "kernelspec": {
      "name": "python3",
      "display_name": "Python 3"
    },
    "language_info": {
      "name": "python"
    }
  },
  "cells": [
    {
      "cell_type": "code",
      "execution_count": null,
      "metadata": {
        "colab": {
          "base_uri": "https://localhost:8080/"
        },
        "id": "xoi8ak62yKgh",
        "outputId": "b1039d8a-6b32-415e-9b06-3cb814a4836b"
      },
      "outputs": [
        {
          "output_type": "stream",
          "name": "stdout",
          "text": [
            "\u001b[33m\r0% [Working]\u001b[0m\r            \rIgn:1 https://developer.download.nvidia.com/compute/cuda/repos/ubuntu1804/x86_64  InRelease\n",
            "\u001b[33m\r0% [Connecting to archive.ubuntu.com] [Connecting to security.ubuntu.com (91.18\u001b[0m\r                                                                               \rIgn:2 https://developer.download.nvidia.com/compute/machine-learning/repos/ubuntu1804/x86_64  InRelease\n",
            "\u001b[33m\r0% [Connecting to archive.ubuntu.com] [Connecting to security.ubuntu.com (91.18\u001b[0m\r                                                                               \rGet:3 https://developer.download.nvidia.com/compute/cuda/repos/ubuntu1804/x86_64  Release [696 B]\n",
            "\u001b[33m\r0% [Connecting to archive.ubuntu.com] [Connecting to security.ubuntu.com (91.18\u001b[0m\u001b[33m\r0% [Connecting to archive.ubuntu.com] [Connecting to security.ubuntu.com (91.18\u001b[0m\r                                                                               \rGet:4 https://cloud.r-project.org/bin/linux/ubuntu bionic-cran40/ InRelease [3,626 B]\n",
            "\u001b[33m\r0% [Connecting to archive.ubuntu.com] [Connecting to security.ubuntu.com (91.18\u001b[0m\u001b[33m\r0% [Connecting to archive.ubuntu.com] [Connecting to security.ubuntu.com (91.18\u001b[0m\r                                                                               \rHit:5 https://developer.download.nvidia.com/compute/machine-learning/repos/ubuntu1804/x86_64  Release\n",
            "Get:6 https://developer.download.nvidia.com/compute/cuda/repos/ubuntu1804/x86_64  Release.gpg [836 B]\n",
            "Get:7 http://security.ubuntu.com/ubuntu bionic-security InRelease [88.7 kB]\n",
            "Get:8 http://ppa.launchpad.net/c2d4u.team/c2d4u4.0+/ubuntu bionic InRelease [15.9 kB]\n",
            "Hit:9 http://archive.ubuntu.com/ubuntu bionic InRelease\n",
            "Get:10 http://archive.ubuntu.com/ubuntu bionic-updates InRelease [88.7 kB]\n",
            "Hit:12 http://ppa.launchpad.net/cran/libgit2/ubuntu bionic InRelease\n",
            "Get:13 https://developer.download.nvidia.com/compute/cuda/repos/ubuntu1804/x86_64  Packages [917 kB]\n",
            "Get:14 http://archive.ubuntu.com/ubuntu bionic-backports InRelease [74.6 kB]\n",
            "Get:15 http://ppa.launchpad.net/deadsnakes/ppa/ubuntu bionic InRelease [15.9 kB]\n",
            "Get:16 http://ppa.launchpad.net/graphics-drivers/ppa/ubuntu bionic InRelease [21.3 kB]\n",
            "Get:17 http://security.ubuntu.com/ubuntu bionic-security/multiverse amd64 Packages [21.1 kB]\n",
            "Get:18 http://security.ubuntu.com/ubuntu bionic-security/restricted amd64 Packages [783 kB]\n",
            "Get:19 http://ppa.launchpad.net/c2d4u.team/c2d4u4.0+/ubuntu bionic/main Sources [1,826 kB]\n",
            "Get:20 http://archive.ubuntu.com/ubuntu bionic-updates/universe amd64 Packages [2,248 kB]\n",
            "Get:21 http://security.ubuntu.com/ubuntu bionic-security/universe amd64 Packages [1,470 kB]\n",
            "Get:22 http://security.ubuntu.com/ubuntu bionic-security/main amd64 Packages [2,565 kB]\n",
            "Get:23 http://archive.ubuntu.com/ubuntu bionic-updates/restricted amd64 Packages [816 kB]\n",
            "Get:24 http://archive.ubuntu.com/ubuntu bionic-updates/multiverse amd64 Packages [29.0 kB]\n",
            "Get:25 http://archive.ubuntu.com/ubuntu bionic-updates/main amd64 Packages [3,004 kB]\n",
            "Get:26 http://ppa.launchpad.net/c2d4u.team/c2d4u4.0+/ubuntu bionic/main amd64 Packages [936 kB]\n",
            "Get:27 http://ppa.launchpad.net/deadsnakes/ppa/ubuntu bionic/main amd64 Packages [45.3 kB]\n",
            "Get:28 http://ppa.launchpad.net/graphics-drivers/ppa/ubuntu bionic/main amd64 Packages [42.8 kB]\n",
            "Fetched 15.0 MB in 5s (2,907 kB/s)\n",
            "Reading package lists... Done\n",
            "Building dependency tree       \n",
            "Reading state information... Done\n",
            "66 packages can be upgraded. Run 'apt list --upgradable' to see them.\n",
            "Reading package lists... Done\n",
            "Building dependency tree       \n",
            "Reading state information... Done\n",
            "The following packages were automatically installed and are no longer required:\n",
            "  cuda-command-line-tools-10-0 cuda-command-line-tools-10-1\n",
            "  cuda-command-line-tools-11-0 cuda-compiler-10-0 cuda-compiler-10-1\n",
            "  cuda-compiler-11-0 cuda-cuobjdump-10-0 cuda-cuobjdump-10-1\n",
            "  cuda-cuobjdump-11-0 cuda-cupti-10-0 cuda-cupti-10-1 cuda-cupti-11-0\n",
            "  cuda-cupti-dev-11-0 cuda-documentation-10-0 cuda-documentation-10-1\n",
            "  cuda-documentation-11-0 cuda-documentation-11-1 cuda-gdb-10-0 cuda-gdb-10-1\n",
            "  cuda-gdb-11-0 cuda-gpu-library-advisor-10-0 cuda-gpu-library-advisor-10-1\n",
            "  cuda-libraries-10-0 cuda-libraries-10-1 cuda-libraries-11-0\n",
            "  cuda-memcheck-10-0 cuda-memcheck-10-1 cuda-memcheck-11-0 cuda-nsight-10-0\n",
            "  cuda-nsight-10-1 cuda-nsight-11-0 cuda-nsight-11-1 cuda-nsight-compute-10-0\n",
            "  cuda-nsight-compute-10-1 cuda-nsight-compute-11-0 cuda-nsight-compute-11-1\n",
            "  cuda-nsight-systems-10-1 cuda-nsight-systems-11-0 cuda-nsight-systems-11-1\n",
            "  cuda-nvcc-10-0 cuda-nvcc-10-1 cuda-nvcc-11-0 cuda-nvdisasm-10-0\n",
            "  cuda-nvdisasm-10-1 cuda-nvdisasm-11-0 cuda-nvml-dev-10-0 cuda-nvml-dev-10-1\n",
            "  cuda-nvml-dev-11-0 cuda-nvprof-10-0 cuda-nvprof-10-1 cuda-nvprof-11-0\n",
            "  cuda-nvprune-10-0 cuda-nvprune-10-1 cuda-nvprune-11-0 cuda-nvtx-10-0\n",
            "  cuda-nvtx-10-1 cuda-nvtx-11-0 cuda-nvvp-10-0 cuda-nvvp-10-1 cuda-nvvp-11-0\n",
            "  cuda-nvvp-11-1 cuda-samples-10-0 cuda-samples-10-1 cuda-samples-11-0\n",
            "  cuda-samples-11-1 cuda-sanitizer-11-0 cuda-sanitizer-api-10-1\n",
            "  cuda-toolkit-10-0 cuda-toolkit-10-1 cuda-toolkit-11-0 cuda-toolkit-11-1\n",
            "  cuda-tools-10-0 cuda-tools-10-1 cuda-tools-11-0 cuda-tools-11-1\n",
            "  cuda-visual-tools-10-0 cuda-visual-tools-10-1 cuda-visual-tools-11-0\n",
            "  cuda-visual-tools-11-1 default-jre dkms freeglut3 freeglut3-dev\n",
            "  keyboard-configuration libargon2-0 libcap2 libcryptsetup12\n",
            "  libdevmapper1.02.1 libfontenc1 libidn11 libip4tc0 libjansson4\n",
            "  libnvidia-cfg1-510 libnvidia-common-460 libnvidia-common-510\n",
            "  libnvidia-extra-510 libnvidia-fbc1-510 libnvidia-gl-510 libpam-systemd\n",
            "  libpolkit-agent-1-0 libpolkit-backend-1-0 libpolkit-gobject-1-0 libxfont2\n",
            "  libxi-dev libxkbfile1 libxmu-dev libxmu-headers libxnvctrl0\n",
            "  nsight-compute-2020.2.1 nsight-compute-2022.1.0 nsight-systems-2020.3.2\n",
            "  nsight-systems-2020.3.4 nsight-systems-2021.5.2 nvidia-dkms-510\n",
            "  nvidia-kernel-common-510 nvidia-kernel-source-510 nvidia-modprobe\n",
            "  nvidia-settings openjdk-11-jre policykit-1 policykit-1-gnome python3-xkit\n",
            "  screen-resolution-extra systemd systemd-sysv udev x11-xkb-utils\n",
            "  xserver-common xserver-xorg-core-hwe-18.04 xserver-xorg-video-nvidia-510\n",
            "Use 'apt autoremove' to remove them.\n",
            "The following additional packages will be installed:\n",
            "  chromium-browser chromium-browser-l10n chromium-codecs-ffmpeg-extra\n",
            "Suggested packages:\n",
            "  webaccounts-chromium-extension unity-chromium-extension\n",
            "The following NEW packages will be installed:\n",
            "  chromium-browser chromium-browser-l10n chromium-chromedriver\n",
            "  chromium-codecs-ffmpeg-extra\n",
            "0 upgraded, 4 newly installed, 0 to remove and 66 not upgraded.\n",
            "Need to get 95.3 MB of archives.\n",
            "After this operation, 327 MB of additional disk space will be used.\n",
            "Get:1 http://archive.ubuntu.com/ubuntu bionic-updates/universe amd64 chromium-codecs-ffmpeg-extra amd64 97.0.4692.71-0ubuntu0.18.04.1 [1,142 kB]\n",
            "Get:2 http://archive.ubuntu.com/ubuntu bionic-updates/universe amd64 chromium-browser amd64 97.0.4692.71-0ubuntu0.18.04.1 [84.7 MB]\n",
            "Get:3 http://archive.ubuntu.com/ubuntu bionic-updates/universe amd64 chromium-browser-l10n all 97.0.4692.71-0ubuntu0.18.04.1 [4,370 kB]\n",
            "Get:4 http://archive.ubuntu.com/ubuntu bionic-updates/universe amd64 chromium-chromedriver amd64 97.0.4692.71-0ubuntu0.18.04.1 [5,055 kB]\n",
            "Fetched 95.3 MB in 7s (13.8 MB/s)\n",
            "Selecting previously unselected package chromium-codecs-ffmpeg-extra.\n",
            "(Reading database ... 155113 files and directories currently installed.)\n",
            "Preparing to unpack .../chromium-codecs-ffmpeg-extra_97.0.4692.71-0ubuntu0.18.04.1_amd64.deb ...\n",
            "Unpacking chromium-codecs-ffmpeg-extra (97.0.4692.71-0ubuntu0.18.04.1) ...\n",
            "Selecting previously unselected package chromium-browser.\n",
            "Preparing to unpack .../chromium-browser_97.0.4692.71-0ubuntu0.18.04.1_amd64.deb ...\n",
            "Unpacking chromium-browser (97.0.4692.71-0ubuntu0.18.04.1) ...\n",
            "Selecting previously unselected package chromium-browser-l10n.\n",
            "Preparing to unpack .../chromium-browser-l10n_97.0.4692.71-0ubuntu0.18.04.1_all.deb ...\n",
            "Unpacking chromium-browser-l10n (97.0.4692.71-0ubuntu0.18.04.1) ...\n",
            "Selecting previously unselected package chromium-chromedriver.\n",
            "Preparing to unpack .../chromium-chromedriver_97.0.4692.71-0ubuntu0.18.04.1_amd64.deb ...\n",
            "Unpacking chromium-chromedriver (97.0.4692.71-0ubuntu0.18.04.1) ...\n",
            "Setting up chromium-codecs-ffmpeg-extra (97.0.4692.71-0ubuntu0.18.04.1) ...\n",
            "Setting up chromium-browser (97.0.4692.71-0ubuntu0.18.04.1) ...\n",
            "update-alternatives: using /usr/bin/chromium-browser to provide /usr/bin/x-www-browser (x-www-browser) in auto mode\n",
            "update-alternatives: using /usr/bin/chromium-browser to provide /usr/bin/gnome-www-browser (gnome-www-browser) in auto mode\n",
            "Setting up chromium-chromedriver (97.0.4692.71-0ubuntu0.18.04.1) ...\n",
            "Setting up chromium-browser-l10n (97.0.4692.71-0ubuntu0.18.04.1) ...\n",
            "Processing triggers for man-db (2.8.3-2ubuntu0.1) ...\n",
            "Processing triggers for hicolor-icon-theme (0.17-2) ...\n",
            "Processing triggers for mime-support (3.60ubuntu1) ...\n",
            "Processing triggers for libc-bin (2.27-3ubuntu1.3) ...\n",
            "/sbin/ldconfig.real: /usr/local/lib/python3.7/dist-packages/ideep4py/lib/libmkldnn.so.0 is not a symbolic link\n",
            "\n",
            "Collecting selenium\n",
            "  Downloading selenium-4.1.0-py3-none-any.whl (958 kB)\n",
            "\u001b[K     |████████████████████████████████| 958 kB 7.6 MB/s \n",
            "\u001b[?25hCollecting trio-websocket~=0.9\n",
            "  Downloading trio_websocket-0.9.2-py3-none-any.whl (16 kB)\n",
            "Collecting trio~=0.17\n",
            "  Downloading trio-0.19.0-py3-none-any.whl (356 kB)\n",
            "\u001b[K     |████████████████████████████████| 356 kB 49.5 MB/s \n",
            "\u001b[?25hCollecting urllib3[secure]~=1.26\n",
            "  Downloading urllib3-1.26.8-py2.py3-none-any.whl (138 kB)\n",
            "\u001b[K     |████████████████████████████████| 138 kB 56.8 MB/s \n",
            "\u001b[?25hCollecting outcome\n",
            "  Downloading outcome-1.1.0-py2.py3-none-any.whl (9.7 kB)\n",
            "Collecting sniffio\n",
            "  Downloading sniffio-1.2.0-py3-none-any.whl (10 kB)\n",
            "Requirement already satisfied: attrs>=19.2.0 in /usr/local/lib/python3.7/dist-packages (from trio~=0.17->selenium) (21.4.0)\n",
            "Requirement already satisfied: idna in /usr/local/lib/python3.7/dist-packages (from trio~=0.17->selenium) (2.10)\n",
            "Requirement already satisfied: sortedcontainers in /usr/local/lib/python3.7/dist-packages (from trio~=0.17->selenium) (2.4.0)\n",
            "Collecting async-generator>=1.9\n",
            "  Downloading async_generator-1.10-py3-none-any.whl (18 kB)\n",
            "Collecting wsproto>=0.14\n",
            "  Downloading wsproto-1.0.0-py3-none-any.whl (24 kB)\n",
            "Requirement already satisfied: certifi in /usr/local/lib/python3.7/dist-packages (from urllib3[secure]~=1.26->selenium) (2021.10.8)\n",
            "Collecting cryptography>=1.3.4\n",
            "  Downloading cryptography-36.0.1-cp36-abi3-manylinux_2_24_x86_64.whl (3.6 MB)\n",
            "\u001b[K     |████████████████████████████████| 3.6 MB 68.1 MB/s \n",
            "\u001b[?25hCollecting pyOpenSSL>=0.14\n",
            "  Downloading pyOpenSSL-22.0.0-py2.py3-none-any.whl (55 kB)\n",
            "\u001b[K     |████████████████████████████████| 55 kB 4.1 MB/s \n",
            "\u001b[?25hRequirement already satisfied: cffi>=1.12 in /usr/local/lib/python3.7/dist-packages (from cryptography>=1.3.4->urllib3[secure]~=1.26->selenium) (1.15.0)\n",
            "Requirement already satisfied: pycparser in /usr/local/lib/python3.7/dist-packages (from cffi>=1.12->cryptography>=1.3.4->urllib3[secure]~=1.26->selenium) (2.21)\n",
            "Collecting h11<1,>=0.9.0\n",
            "  Downloading h11-0.13.0-py3-none-any.whl (58 kB)\n",
            "\u001b[K     |████████████████████████████████| 58 kB 5.7 MB/s \n",
            "\u001b[?25hRequirement already satisfied: typing-extensions in /usr/local/lib/python3.7/dist-packages (from h11<1,>=0.9.0->wsproto>=0.14->trio-websocket~=0.9->selenium) (3.10.0.2)\n",
            "Installing collected packages: sniffio, outcome, h11, cryptography, async-generator, wsproto, urllib3, trio, pyOpenSSL, trio-websocket, selenium\n",
            "  Attempting uninstall: urllib3\n",
            "    Found existing installation: urllib3 1.24.3\n",
            "    Uninstalling urllib3-1.24.3:\n",
            "      Successfully uninstalled urllib3-1.24.3\n",
            "\u001b[31mERROR: pip's dependency resolver does not currently take into account all the packages that are installed. This behaviour is the source of the following dependency conflicts.\n",
            "requests 2.23.0 requires urllib3!=1.25.0,!=1.25.1,<1.26,>=1.21.1, but you have urllib3 1.26.8 which is incompatible.\n",
            "datascience 0.10.6 requires folium==0.2.1, but you have folium 0.8.3 which is incompatible.\u001b[0m\n",
            "Successfully installed async-generator-1.10 cryptography-36.0.1 h11-0.13.0 outcome-1.1.0 pyOpenSSL-22.0.0 selenium-4.1.0 sniffio-1.2.0 trio-0.19.0 trio-websocket-0.9.2 urllib3-1.26.8 wsproto-1.0.0\n"
          ]
        }
      ],
      "source": [
        "!apt update\n",
        "!apt install chromium-chromedriver\n",
        "!pip install selenium"
      ]
    },
    {
      "cell_type": "code",
      "source": [
        "from selenium import webdriver\n",
        "from selenium.webdriver.common.by import By"
      ],
      "metadata": {
        "id": "vXar96XIzAec"
      },
      "execution_count": null,
      "outputs": []
    },
    {
      "cell_type": "code",
      "source": [
        "options = webdriver.ChromeOptions()\n",
        "options.add_argument('--headless')\n",
        "options.add_argument('--no-sandbox')\n",
        "options.add_argument('--disable-dev-shm-usage')"
      ],
      "metadata": {
        "id": "g5hzLP_v3cD6"
      },
      "execution_count": null,
      "outputs": []
    },
    {
      "cell_type": "code",
      "source": [
        "browser=webdriver.Chrome('chromedriver',options=options) #opening chrome browser\n"
      ],
      "metadata": {
        "id": "kVpfywCvEjbC"
      },
      "execution_count": null,
      "outputs": []
    },
    {
      "cell_type": "code",
      "source": [
        "browser.get(\"https://www.shopclues.com/mens-clothing-t-shirts.html\") #getting contents from provided url"
      ],
      "metadata": {
        "id": "S01qhD43WEl3"
      },
      "execution_count": null,
      "outputs": []
    },
    {
      "cell_type": "code",
      "source": [
        "tshirtelem=browser.find_elements(By.CLASS_NAME,'prod_name') \n",
        "#tshirtelem[0].text"
      ],
      "metadata": {
        "id": "4w-oAC-gY9Ki"
      },
      "execution_count": null,
      "outputs": []
    },
    {
      "cell_type": "code",
      "source": [
        "tshirt_name=[] #to store names\n",
        "i=0\n",
        "for name in tshirtelem:\n",
        "  i=i+1\n",
        "  if i>20:\n",
        "    break\n",
        "  else:\n",
        "    tshirt_name.append(name.text)\n"
      ],
      "metadata": {
        "id": "nl5LKQAHPAD8"
      },
      "execution_count": null,
      "outputs": []
    },
    {
      "cell_type": "code",
      "source": [
        "print(len(tshirt_name))\n",
        "tshirt_name"
      ],
      "metadata": {
        "colab": {
          "base_uri": "https://localhost:8080/"
        },
        "id": "g-IQFAE0PjAI",
        "outputId": "c18181ac-9475-46d6-ca89-45d8d52be7e4"
      },
      "execution_count": null,
      "outputs": [
        {
          "output_type": "stream",
          "name": "stdout",
          "text": [
            "20\n"
          ]
        },
        {
          "output_type": "execute_result",
          "data": {
            "text/plain": [
              "['CH FASHION - 2844 Men Teal Green Mustard Yellow Colour',\n",
              " \"LE BOURGEOIS Men's White Polkadot Round Neck T-Shirt\",\n",
              " 'SKYBEN premium quality tshirt with comfort fit and uniq',\n",
              " 'LE Bourgeois Navy Blue V-Neck Half Sleeve T-Shirt for M',\n",
              " '29K Men Black Round Neck T-Shirt',\n",
              " 'KETEX White Slim Fit Polo T Shirt',\n",
              " 'ISHU Printed Men Half Sleeve Round Neck Nylon Black T-s',\n",
              " \"Armure Men's Grey Round Neck T-Shirts\",\n",
              " 'Funky Guys Skyblue Round Neck Tshirt For Men',\n",
              " 'Are You Vaccinated Black Round Neck T-Shirt For Men',\n",
              " 'Stylogue Round Neck Half Sleeve T-shirt For Men',\n",
              " 'Stylogue Round Neck Half Sleeve T-shirt For Men',\n",
              " 'SquarFeet Maroon Polo T-Shirt For Men',\n",
              " 'Smiley Sky Blue Round Neck T-Shirt For Men',\n",
              " \"Ceazar Men's Navy Half henley\",\n",
              " 'CeazarYellow round polyster',\n",
              " 'BrainBell Casual Double Shade T-shirt For Men',\n",
              " 'Concepts Yellow And Black Cotton Printed Tshirt',\n",
              " \"Grand Bear Men's Yellow Cream Round Neck T-Shirt\",\n",
              " 'Outlaws Black-Jonny Neck T-Shirt']"
            ]
          },
          "metadata": {},
          "execution_count": 54
        }
      ]
    },
    {
      "cell_type": "code",
      "source": [
        "elems=browser.find_elements(By.CSS_SELECTOR,'div.column.col3 a')\n",
        "print(elems)"
      ],
      "metadata": {
        "colab": {
          "base_uri": "https://localhost:8080/"
        },
        "id": "6szGMGHiPl-e",
        "outputId": "97ce711f-2edd-451c-9e7e-31139b346f68"
      },
      "execution_count": null,
      "outputs": [
        {
          "output_type": "stream",
          "name": "stdout",
          "text": [
            "[<selenium.webdriver.remote.webelement.WebElement (session=\"e5dc733b379617b7e673800a7dd88534\", element=\"d92decde-9a21-4a19-95a1-8f53f7c0ac71\")>, <selenium.webdriver.remote.webelement.WebElement (session=\"e5dc733b379617b7e673800a7dd88534\", element=\"2cd4dccc-c610-49a1-9cf5-78b32f9ab3cf\")>, <selenium.webdriver.remote.webelement.WebElement (session=\"e5dc733b379617b7e673800a7dd88534\", element=\"77510096-0a72-44c9-bc2b-ea78015b90f3\")>, <selenium.webdriver.remote.webelement.WebElement (session=\"e5dc733b379617b7e673800a7dd88534\", element=\"ef92ca51-e961-4e12-aa45-6a7cad3bee90\")>, <selenium.webdriver.remote.webelement.WebElement (session=\"e5dc733b379617b7e673800a7dd88534\", element=\"a1690d8e-b3e5-4229-87cc-36fc4c2fc526\")>, <selenium.webdriver.remote.webelement.WebElement (session=\"e5dc733b379617b7e673800a7dd88534\", element=\"6b0b9aa4-899c-47dc-a5dc-6429fbf951d2\")>, <selenium.webdriver.remote.webelement.WebElement (session=\"e5dc733b379617b7e673800a7dd88534\", element=\"6d986ad4-be14-45b3-8444-71a3b96e7bcd\")>, <selenium.webdriver.remote.webelement.WebElement (session=\"e5dc733b379617b7e673800a7dd88534\", element=\"1bf647ba-ecad-4264-9c5c-c2a5b874e298\")>, <selenium.webdriver.remote.webelement.WebElement (session=\"e5dc733b379617b7e673800a7dd88534\", element=\"2f51a536-15d5-4005-826f-2878a1459431\")>, <selenium.webdriver.remote.webelement.WebElement (session=\"e5dc733b379617b7e673800a7dd88534\", element=\"e28979d7-0c41-4c42-a84a-5927fd3d9e06\")>, <selenium.webdriver.remote.webelement.WebElement (session=\"e5dc733b379617b7e673800a7dd88534\", element=\"3b49d616-5869-4780-a0ab-b1da7922ec47\")>, <selenium.webdriver.remote.webelement.WebElement (session=\"e5dc733b379617b7e673800a7dd88534\", element=\"45df3f8c-2cd4-476d-b1c4-586fa6b0f102\")>, <selenium.webdriver.remote.webelement.WebElement (session=\"e5dc733b379617b7e673800a7dd88534\", element=\"928d3086-e24a-42dd-819f-83b8a0f7badb\")>, <selenium.webdriver.remote.webelement.WebElement (session=\"e5dc733b379617b7e673800a7dd88534\", element=\"67dd0575-6b4d-4275-9fc7-fd86c08037dd\")>, <selenium.webdriver.remote.webelement.WebElement (session=\"e5dc733b379617b7e673800a7dd88534\", element=\"207d65ff-3919-459f-b951-37b34a07b5dd\")>, <selenium.webdriver.remote.webelement.WebElement (session=\"e5dc733b379617b7e673800a7dd88534\", element=\"79d8845a-0ea2-41c2-b340-4f2e2dc3259d\")>, <selenium.webdriver.remote.webelement.WebElement (session=\"e5dc733b379617b7e673800a7dd88534\", element=\"b30e41b1-c123-49eb-a34e-80c4eb2c57b3\")>, <selenium.webdriver.remote.webelement.WebElement (session=\"e5dc733b379617b7e673800a7dd88534\", element=\"4e5b0aff-f44d-402d-a080-7dca51fd564e\")>, <selenium.webdriver.remote.webelement.WebElement (session=\"e5dc733b379617b7e673800a7dd88534\", element=\"e5746b6f-cd5d-4716-8d11-e22fdbb6139f\")>, <selenium.webdriver.remote.webelement.WebElement (session=\"e5dc733b379617b7e673800a7dd88534\", element=\"8f58abda-0f10-4c15-ba68-ad5e40e11170\")>, <selenium.webdriver.remote.webelement.WebElement (session=\"e5dc733b379617b7e673800a7dd88534\", element=\"51d7f874-420b-4fd1-ba66-f17064306ffe\")>, <selenium.webdriver.remote.webelement.WebElement (session=\"e5dc733b379617b7e673800a7dd88534\", element=\"f38a660c-516e-4de9-958f-dcf22da05b1d\")>, <selenium.webdriver.remote.webelement.WebElement (session=\"e5dc733b379617b7e673800a7dd88534\", element=\"afa59979-1f6b-4ff6-b82f-4231082af501\")>, <selenium.webdriver.remote.webelement.WebElement (session=\"e5dc733b379617b7e673800a7dd88534\", element=\"50ca7e04-5feb-4f2b-8352-46630f6c05ca\")>, <selenium.webdriver.remote.webelement.WebElement (session=\"e5dc733b379617b7e673800a7dd88534\", element=\"8b077964-1eb6-4bb7-8e4f-3afc4a208c00\")>, <selenium.webdriver.remote.webelement.WebElement (session=\"e5dc733b379617b7e673800a7dd88534\", element=\"5415dfb3-b382-4585-ab22-b559510be40c\")>, <selenium.webdriver.remote.webelement.WebElement (session=\"e5dc733b379617b7e673800a7dd88534\", element=\"27ae8655-38f9-493b-be05-53629321dbbb\")>, <selenium.webdriver.remote.webelement.WebElement (session=\"e5dc733b379617b7e673800a7dd88534\", element=\"c6894593-a99d-4de9-bc0d-615833b2aced\")>, <selenium.webdriver.remote.webelement.WebElement (session=\"e5dc733b379617b7e673800a7dd88534\", element=\"ee75c0ad-c90a-49eb-a259-e00c500cc5ee\")>, <selenium.webdriver.remote.webelement.WebElement (session=\"e5dc733b379617b7e673800a7dd88534\", element=\"d18cf08b-bf20-45d7-877e-97a7cf6db74e\")>, <selenium.webdriver.remote.webelement.WebElement (session=\"e5dc733b379617b7e673800a7dd88534\", element=\"7aa78145-bda8-44f6-bc4a-e885a40774c7\")>, <selenium.webdriver.remote.webelement.WebElement (session=\"e5dc733b379617b7e673800a7dd88534\", element=\"c4b16f55-3a9f-4ff8-b578-acc147600a19\")>, <selenium.webdriver.remote.webelement.WebElement (session=\"e5dc733b379617b7e673800a7dd88534\", element=\"81c76ffa-eca4-415b-8128-ecd5122333e6\")>, <selenium.webdriver.remote.webelement.WebElement (session=\"e5dc733b379617b7e673800a7dd88534\", element=\"c41a7669-1994-4ada-930f-3ecffac9dcdc\")>, <selenium.webdriver.remote.webelement.WebElement (session=\"e5dc733b379617b7e673800a7dd88534\", element=\"4b89e6d1-b04e-4302-b1cb-f5fc8cdd8318\")>, <selenium.webdriver.remote.webelement.WebElement (session=\"e5dc733b379617b7e673800a7dd88534\", element=\"7ff3178a-14b6-4232-866e-ff13e6cac537\")>, <selenium.webdriver.remote.webelement.WebElement (session=\"e5dc733b379617b7e673800a7dd88534\", element=\"8d1a37fa-f275-4c54-bde9-8523e50dac40\")>, <selenium.webdriver.remote.webelement.WebElement (session=\"e5dc733b379617b7e673800a7dd88534\", element=\"da5ad23a-ff89-4dfe-9577-82e4c1efa812\")>, <selenium.webdriver.remote.webelement.WebElement (session=\"e5dc733b379617b7e673800a7dd88534\", element=\"2996ad80-e3dd-469c-a682-1f3a547cb461\")>, <selenium.webdriver.remote.webelement.WebElement (session=\"e5dc733b379617b7e673800a7dd88534\", element=\"eba8e21e-c03f-47b8-8cdf-9ec942c7ea4f\")>, <selenium.webdriver.remote.webelement.WebElement (session=\"e5dc733b379617b7e673800a7dd88534\", element=\"e5f5ee58-1e00-4ea6-86e1-dd0c89de32bb\")>, <selenium.webdriver.remote.webelement.WebElement (session=\"e5dc733b379617b7e673800a7dd88534\", element=\"0c4326ee-73a8-4775-83b0-cf654915e279\")>, <selenium.webdriver.remote.webelement.WebElement (session=\"e5dc733b379617b7e673800a7dd88534\", element=\"ac599d99-ee67-491d-aa62-1afc7620c3ef\")>, <selenium.webdriver.remote.webelement.WebElement (session=\"e5dc733b379617b7e673800a7dd88534\", element=\"2aa2871a-81bd-4b0b-9682-539c1f15af51\")>, <selenium.webdriver.remote.webelement.WebElement (session=\"e5dc733b379617b7e673800a7dd88534\", element=\"73fc9f13-2616-4d76-85f2-c74b2f5429e4\")>, <selenium.webdriver.remote.webelement.WebElement (session=\"e5dc733b379617b7e673800a7dd88534\", element=\"69477853-192f-4ec2-aa14-f430ab3fe073\")>, <selenium.webdriver.remote.webelement.WebElement (session=\"e5dc733b379617b7e673800a7dd88534\", element=\"f3118d2b-1c1b-4c7a-82b7-29d7063fc594\")>, <selenium.webdriver.remote.webelement.WebElement (session=\"e5dc733b379617b7e673800a7dd88534\", element=\"0463a268-41b4-49d8-85f9-6b0c41745b66\")>, <selenium.webdriver.remote.webelement.WebElement (session=\"e5dc733b379617b7e673800a7dd88534\", element=\"96aa98ca-945e-4384-994a-776cff59bb9e\")>, <selenium.webdriver.remote.webelement.WebElement (session=\"e5dc733b379617b7e673800a7dd88534\", element=\"b946e6dc-c1f8-476d-b428-4017ba7e10a0\")>, <selenium.webdriver.remote.webelement.WebElement (session=\"e5dc733b379617b7e673800a7dd88534\", element=\"f1b346f2-59e4-4c6a-900a-a11831986b55\")>, <selenium.webdriver.remote.webelement.WebElement (session=\"e5dc733b379617b7e673800a7dd88534\", element=\"ea8449b8-0cfd-4f3b-8f37-70f8a75135e8\")>, <selenium.webdriver.remote.webelement.WebElement (session=\"e5dc733b379617b7e673800a7dd88534\", element=\"a35e7c93-7db3-4bfe-b01d-2be92e1fd2b6\")>, <selenium.webdriver.remote.webelement.WebElement (session=\"e5dc733b379617b7e673800a7dd88534\", element=\"4e160657-3460-46c8-9c9b-866aeb32bc91\")>, <selenium.webdriver.remote.webelement.WebElement (session=\"e5dc733b379617b7e673800a7dd88534\", element=\"fad725cc-4147-4832-8dd4-3b084867d87a\")>, <selenium.webdriver.remote.webelement.WebElement (session=\"e5dc733b379617b7e673800a7dd88534\", element=\"c35650a2-29a7-4fff-914c-e02fffdbd785\")>]\n"
          ]
        }
      ]
    },
    {
      "cell_type": "code",
      "source": [
        "links=[] #to store links\n",
        "j=0\n",
        "for i in elems:\n",
        "  j=j+1;\n",
        "  if j<41:\n",
        "    if j%2==0:\n",
        "      linkelem=i.get_attribute('href')\n",
        "      links.append(linkelem)\n",
        "      #print(linkelem)\n",
        "  else:\n",
        "    break\n"
      ],
      "metadata": {
        "id": "o6gmCKkNFHP2"
      },
      "execution_count": null,
      "outputs": []
    },
    {
      "cell_type": "code",
      "source": [
        "print(len(links))\n",
        "links"
      ],
      "metadata": {
        "colab": {
          "base_uri": "https://localhost:8080/"
        },
        "id": "0uayVUbOeZhh",
        "outputId": "aefbee9d-2b3b-4e14-aef6-a911bec50da0"
      },
      "execution_count": null,
      "outputs": [
        {
          "output_type": "stream",
          "name": "stdout",
          "text": [
            "20\n"
          ]
        },
        {
          "output_type": "execute_result",
          "data": {
            "text/plain": [
              "['https://www.shopclues.com/ch-fashion-2844-men-teal-green-and-mustard-yellow-colourblocked-round-neck-t-shirt-150598541.html?adz_page=plp&adz_pos=1&campaign_id=40226',\n",
              " 'https://www.shopclues.com/le-bourgeois-mens-white-polkadot-round-neck-t-shirt-133316160.html?adz_page=plp&adz_pos=2&campaign_id=40300',\n",
              " 'https://www.shopclues.com/skyben-premium-quality-tshirt-with-comfort-fit-and-unique-design.-152031699.html?adz_page=plp&adz_pos=3&campaign_id=40288',\n",
              " 'https://www.shopclues.com/le-bourgeois-navy-blue-v-neck-half-sleeve-t-shirt-for-mens.html?adz_page=plp&adz_pos=4&campaign_id=40008',\n",
              " 'https://www.shopclues.com/stylesmyth-best-selling-half-sleeeves-t-shirt-for-man-colourblock-printed-tshirt-150343301.html',\n",
              " 'https://www.shopclues.com/concepts-white-slim-fit-polo-t-shirt-123994723.html',\n",
              " 'https://www.shopclues.com/ishu-printed-mens-half-sleeve-round-neck-black-t-shirt-144921077.html',\n",
              " 'https://www.shopclues.com/armure-mens-grey-round-neck-t-shirts-150502560.html',\n",
              " 'https://www.shopclues.com/funky-guys-skyblue-round-neck-slim-fit-tshirt-143047348.html',\n",
              " 'https://www.shopclues.com/dri-fit-round-neck-t-shirt-black-polyester-strachable-152434102.html',\n",
              " 'https://www.shopclues.com/stylogue-round-neck-half-sleeve-t-shirt-for-men-150492191.html',\n",
              " 'https://www.shopclues.com/stylogue-round-neck-half-sleeve-t-shirt-for-men-150492185.html',\n",
              " 'https://www.shopclues.com/squarfeet-maroon-polo-tshirt-124985685.html',\n",
              " 'https://www.shopclues.com/pause-blue-solid-cotton-round-neck-slim-fit-long-sleeve-mens-t-shirt-152379987.html',\n",
              " 'https://www.shopclues.com/ceazar-mens-navy-half-henley-147212326.html',\n",
              " 'https://www.shopclues.com/ceazaryellow-round-polyster-147319093.html',\n",
              " 'https://www.shopclues.com/brainbell-casual-double-shade-t-shirt-for-men-143127435.html',\n",
              " 'https://www.shopclues.com/concepts-yellow-and-black-cotton-printed-tshirt-148282392.html',\n",
              " 'https://www.shopclues.com/grand-bear-polo-t-shirt-for-men-5.html',\n",
              " 'https://www.shopclues.com/outlaws-black-jonny-neck-t-shirt-1-year-warranty-152262058.html']"
            ]
          },
          "metadata": {},
          "execution_count": 57
        }
      ]
    },
    {
      "cell_type": "code",
      "source": [
        "productelems=[] #to store product id\n",
        "for link in links:\n",
        "  browser.get(link)\n",
        "  productelem=browser.find_element(By.CLASS_NAME,'pID')\n",
        "  productelems.append(productelem.text)"
      ],
      "metadata": {
        "id": "wPBdcn-fS7iw"
      },
      "execution_count": null,
      "outputs": []
    },
    {
      "cell_type": "code",
      "source": [
        "productelems"
      ],
      "metadata": {
        "colab": {
          "base_uri": "https://localhost:8080/"
        },
        "id": "1amJuKt7ZQDx",
        "outputId": "90c35b1a-c3b1-4739-c601-0d6678d3b7db"
      },
      "execution_count": null,
      "outputs": [
        {
          "output_type": "execute_result",
          "data": {
            "text/plain": [
              "['CH Fashions Product Id : 150598541',\n",
              " 'Product Id : 133316160',\n",
              " 'Skyben Product Id : 152031699',\n",
              " 'Product Id : 101500133',\n",
              " '29K Product Id : 150343301',\n",
              " 'Ketex Product Id : 123994723',\n",
              " 'ISHU Product Id : 144921077',\n",
              " 'Armure Product Id : 150502560',\n",
              " 'Funky Guys Product Id : 143047348',\n",
              " 'Other Manufacturer Product Id : 152434102',\n",
              " 'Stylogue Product Id : 150492191',\n",
              " 'Stylogue Product Id : 150492185',\n",
              " 'SquareFeet Product Id : 124985685',\n",
              " 'Smiley Product Id : 152379987',\n",
              " 'Product Id : 147212326',\n",
              " 'CEAZAR Product Id : 147319093',\n",
              " 'Brainbell Product Id : 143127435',\n",
              " 'Concepts Product Id : 148282392',\n",
              " 'Grand Bear Product Id : 85624145',\n",
              " 'Outlaws Product Id : 152262058']"
            ]
          },
          "metadata": {},
          "execution_count": 61
        }
      ]
    },
    {
      "cell_type": "code",
      "source": [
        "tshirt_sizes=[] #to store sizes available\n",
        "\n",
        "for link in links:\n",
        "  browser.get(link)\n",
        "  sizeelem=browser.find_elements(By.CSS_SELECTOR,'span.variant.var')\n",
        "  sizes=[]\n",
        "  for size in sizeelem:\n",
        "    sizes.append(size.text)\n",
        "  tshirt_sizes.append(sizes)"
      ],
      "metadata": {
        "id": "ryHPrq2jb2lN"
      },
      "execution_count": null,
      "outputs": []
    },
    {
      "cell_type": "code",
      "source": [
        "print(len(tshirt_sizes))\n",
        "tshirt_sizes"
      ],
      "metadata": {
        "colab": {
          "base_uri": "https://localhost:8080/"
        },
        "id": "KnMMXVkP5Yh_",
        "outputId": "aa8bf151-aa7d-45db-e309-cd6b69ec405d"
      },
      "execution_count": null,
      "outputs": [
        {
          "output_type": "stream",
          "name": "stdout",
          "text": [
            "20\n"
          ]
        },
        {
          "output_type": "execute_result",
          "data": {
            "text/plain": [
              "[['S', 'M', 'L', 'XL', 'XXL'],\n",
              " ['S', 'M', 'L', 'XL'],\n",
              " ['XS', 'S', 'M', 'L', 'XL', 'XXL'],\n",
              " ['S', 'L', 'XL'],\n",
              " ['S', 'M', 'L', 'XL'],\n",
              " ['', '', 'S', 'M', 'L', 'XL', 'XXL'],\n",
              " ['S', 'M', 'L', 'XL'],\n",
              " ['S', 'M', 'L', 'XL'],\n",
              " ['M', 'L', 'XL', 'XXL'],\n",
              " ['', 'M', 'L', 'XL'],\n",
              " ['M', 'L', 'XL'],\n",
              " ['M', 'L', 'XL'],\n",
              " ['XS'],\n",
              " ['M', 'L', 'XL'],\n",
              " ['XXL'],\n",
              " ['M', 'L'],\n",
              " ['', '', 'M', 'L', 'XL'],\n",
              " ['', '38', '40', '42', '44', '46'],\n",
              " ['38'],\n",
              " ['M', 'L']]"
            ]
          },
          "metadata": {},
          "execution_count": 63
        }
      ]
    },
    {
      "cell_type": "code",
      "source": [
        "tshirt_prices=[] #to store prices\n",
        "\n",
        "for link in links:\n",
        "  browser.get(link)\n",
        "  price=browser.find_element(By.CSS_SELECTOR,'span.f_price')\n",
        "  tshirt_prices.append(price.text)"
      ],
      "metadata": {
        "id": "XN0tYlUI8zYS"
      },
      "execution_count": null,
      "outputs": []
    },
    {
      "cell_type": "code",
      "source": [
        "print(len(tshirt_prices))\n",
        "tshirt_prices"
      ],
      "metadata": {
        "colab": {
          "base_uri": "https://localhost:8080/"
        },
        "id": "k5XfsNB3B6yu",
        "outputId": "c7f81926-25a7-47e8-a75c-eb1b6946b270"
      },
      "execution_count": null,
      "outputs": [
        {
          "output_type": "stream",
          "name": "stdout",
          "text": [
            "20\n"
          ]
        },
        {
          "output_type": "execute_result",
          "data": {
            "text/plain": [
              "['₹397',\n",
              " '₹470',\n",
              " '₹225',\n",
              " '₹460',\n",
              " '₹208',\n",
              " '₹198',\n",
              " '₹248',\n",
              " '₹176',\n",
              " '₹178',\n",
              " '₹176',\n",
              " '₹294',\n",
              " '₹274',\n",
              " '₹284',\n",
              " '₹188',\n",
              " '₹245',\n",
              " '₹156',\n",
              " '₹228',\n",
              " '₹264',\n",
              " '₹264',\n",
              " '₹258']"
            ]
          },
          "metadata": {},
          "execution_count": 65
        }
      ]
    },
    {
      "cell_type": "code",
      "source": [
        "descrp=[] #to store print patter and color family\n",
        "\n",
        "for link in links:\n",
        "  browser.get(link)\n",
        "  belem=browser.find_element(By.CSS_SELECTOR,'div.des_info')\n",
        "  descrp.append(belem.text)"
      ],
      "metadata": {
        "id": "-ZK2hAqaGD2I"
      },
      "execution_count": null,
      "outputs": []
    },
    {
      "cell_type": "code",
      "source": [
        "print(len(descrp))\n",
        "descrp"
      ],
      "metadata": {
        "colab": {
          "base_uri": "https://localhost:8080/"
        },
        "id": "XvFLFB04Mq3-",
        "outputId": "ed971b88-7cd2-4ed3-aeb5-d56611e5b7b0"
      },
      "execution_count": null,
      "outputs": [
        {
          "output_type": "stream",
          "name": "stdout",
          "text": [
            "20\n"
          ]
        },
        {
          "output_type": "execute_result",
          "data": {
            "text/plain": [
              "['Prints & Patterns : Block Print\\nColor Family : Mustard\\nColor Family : Teal\\nMore Specification',\n",
              " 'Prints & Patterns : Polkadot\\nColor Family : White',\n",
              " 'Prints & Patterns : Printed\\nColor Family : Grey',\n",
              " 'Prints & Patterns : Solid\\nColor Family : Blue',\n",
              " 'Prints & Patterns : Printed\\nColor Family : Black',\n",
              " 'Prints & Patterns : Solid\\nColor Family : White',\n",
              " 'Prints & Patterns : Printed\\nColor Family : Black',\n",
              " 'Prints & Patterns : Self Design\\nColor Family : Grey',\n",
              " 'Prints & Patterns : Solid\\nColor Family : Sky Blue',\n",
              " 'Prints & Patterns : Self Design\\nColor Family : Black',\n",
              " 'Prints & Patterns : Self Design\\nColor Family : Multicolor',\n",
              " 'Prints & Patterns : Self Design\\nColor Family : Multicolor',\n",
              " 'Prints & Patterns : Solid\\nColor Family : Maroon',\n",
              " 'Prints & Patterns : Printed\\nColor Family : Blue',\n",
              " 'Prints & Patterns : Solid\\nColor Family : Navy',\n",
              " 'Prints & Patterns : Solid\\nColor Family : Yellow',\n",
              " 'Prints & Patterns : Self Design\\nColor Family : Multicolor',\n",
              " 'Prints & Patterns : Printed\\nColor Family : Multicolor',\n",
              " 'Prints & Patterns : Solid\\nColor Family : Cream\\nColor Family : Yellow\\nMore Specification',\n",
              " 'Prints & Patterns : Solid\\nColor Family : Black']"
            ]
          },
          "metadata": {},
          "execution_count": 90
        }
      ]
    },
    {
      "cell_type": "code",
      "source": [
        "for i in range(len(descrp)):\n",
        "  descrp[i]=descrp[i].split('\\n')"
      ],
      "metadata": {
        "id": "2MRuGK2YN-tO"
      },
      "execution_count": null,
      "outputs": []
    },
    {
      "cell_type": "code",
      "source": [
        "descrp"
      ],
      "metadata": {
        "colab": {
          "base_uri": "https://localhost:8080/"
        },
        "id": "pF_kXFoEUJfD",
        "outputId": "f43d5a42-0991-4568-f06f-a1b4639136d1"
      },
      "execution_count": null,
      "outputs": [
        {
          "output_type": "execute_result",
          "data": {
            "text/plain": [
              "[['Prints & Patterns : Block Print',\n",
              "  'Color Family : Mustard',\n",
              "  'Color Family : Teal',\n",
              "  'More Specification'],\n",
              " ['Prints & Patterns : Polkadot', 'Color Family : White'],\n",
              " ['Prints & Patterns : Printed', 'Color Family : Grey'],\n",
              " ['Prints & Patterns : Solid', 'Color Family : Blue'],\n",
              " ['Prints & Patterns : Printed', 'Color Family : Black'],\n",
              " ['Prints & Patterns : Solid', 'Color Family : White'],\n",
              " ['Prints & Patterns : Printed', 'Color Family : Black'],\n",
              " ['Prints & Patterns : Self Design', 'Color Family : Grey'],\n",
              " ['Prints & Patterns : Solid', 'Color Family : Sky Blue'],\n",
              " ['Prints & Patterns : Self Design', 'Color Family : Black'],\n",
              " ['Prints & Patterns : Self Design', 'Color Family : Multicolor'],\n",
              " ['Prints & Patterns : Self Design', 'Color Family : Multicolor'],\n",
              " ['Prints & Patterns : Solid', 'Color Family : Maroon'],\n",
              " ['Prints & Patterns : Printed', 'Color Family : Blue'],\n",
              " ['Prints & Patterns : Solid', 'Color Family : Navy'],\n",
              " ['Prints & Patterns : Solid', 'Color Family : Yellow'],\n",
              " ['Prints & Patterns : Self Design', 'Color Family : Multicolor'],\n",
              " ['Prints & Patterns : Printed', 'Color Family : Multicolor'],\n",
              " ['Prints & Patterns : Solid',\n",
              "  'Color Family : Cream',\n",
              "  'Color Family : Yellow',\n",
              "  'More Specification'],\n",
              " ['Prints & Patterns : Solid', 'Color Family : Black']]"
            ]
          },
          "metadata": {},
          "execution_count": 101
        }
      ]
    },
    {
      "cell_type": "code",
      "source": [
        "flist=list(zip(tshirt_name,productelems,tshirt_prices,tshirt_sizes,descrp,links)) #zipping all lists together "
      ],
      "metadata": {
        "id": "VUWoW2A5PZ7u"
      },
      "execution_count": null,
      "outputs": []
    },
    {
      "cell_type": "code",
      "source": [
        "flist"
      ],
      "metadata": {
        "colab": {
          "base_uri": "https://localhost:8080/"
        },
        "id": "0TnCwQ9NPjMB",
        "outputId": "2dde17c7-f913-481b-c122-58efbac350c1"
      },
      "execution_count": null,
      "outputs": [
        {
          "output_type": "execute_result",
          "data": {
            "text/plain": [
              "[('CH FASHION - 2844 Men Teal Green Mustard Yellow Colour',\n",
              "  'CH Fashions Product Id : 150598541',\n",
              "  '₹397',\n",
              "  ['S', 'M', 'L', 'XL', 'XXL'],\n",
              "  ['Prints & Patterns : Block Print',\n",
              "   'Color Family : Mustard',\n",
              "   'Color Family : Teal',\n",
              "   'More Specification'],\n",
              "  'https://www.shopclues.com/ch-fashion-2844-men-teal-green-and-mustard-yellow-colourblocked-round-neck-t-shirt-150598541.html?adz_page=plp&adz_pos=1&campaign_id=40226'),\n",
              " (\"LE BOURGEOIS Men's White Polkadot Round Neck T-Shirt\",\n",
              "  'Product Id : 133316160',\n",
              "  '₹470',\n",
              "  ['S', 'M', 'L', 'XL'],\n",
              "  ['Prints & Patterns : Polkadot', 'Color Family : White'],\n",
              "  'https://www.shopclues.com/le-bourgeois-mens-white-polkadot-round-neck-t-shirt-133316160.html?adz_page=plp&adz_pos=2&campaign_id=40300'),\n",
              " ('SKYBEN premium quality tshirt with comfort fit and uniq',\n",
              "  'Skyben Product Id : 152031699',\n",
              "  '₹225',\n",
              "  ['XS', 'S', 'M', 'L', 'XL', 'XXL'],\n",
              "  ['Prints & Patterns : Printed', 'Color Family : Grey'],\n",
              "  'https://www.shopclues.com/skyben-premium-quality-tshirt-with-comfort-fit-and-unique-design.-152031699.html?adz_page=plp&adz_pos=3&campaign_id=40288'),\n",
              " ('LE Bourgeois Navy Blue V-Neck Half Sleeve T-Shirt for M',\n",
              "  'Product Id : 101500133',\n",
              "  '₹460',\n",
              "  ['S', 'L', 'XL'],\n",
              "  ['Prints & Patterns : Solid', 'Color Family : Blue'],\n",
              "  'https://www.shopclues.com/le-bourgeois-navy-blue-v-neck-half-sleeve-t-shirt-for-mens.html?adz_page=plp&adz_pos=4&campaign_id=40008'),\n",
              " ('29K Men Black Round Neck T-Shirt',\n",
              "  '29K Product Id : 150343301',\n",
              "  '₹208',\n",
              "  ['S', 'M', 'L', 'XL'],\n",
              "  ['Prints & Patterns : Printed', 'Color Family : Black'],\n",
              "  'https://www.shopclues.com/stylesmyth-best-selling-half-sleeeves-t-shirt-for-man-colourblock-printed-tshirt-150343301.html'),\n",
              " ('KETEX White Slim Fit Polo T Shirt',\n",
              "  'Ketex Product Id : 123994723',\n",
              "  '₹198',\n",
              "  ['', '', 'S', 'M', 'L', 'XL', 'XXL'],\n",
              "  ['Prints & Patterns : Solid', 'Color Family : White'],\n",
              "  'https://www.shopclues.com/concepts-white-slim-fit-polo-t-shirt-123994723.html'),\n",
              " ('ISHU Printed Men Half Sleeve Round Neck Nylon Black T-s',\n",
              "  'ISHU Product Id : 144921077',\n",
              "  '₹248',\n",
              "  ['S', 'M', 'L', 'XL'],\n",
              "  ['Prints & Patterns : Printed', 'Color Family : Black'],\n",
              "  'https://www.shopclues.com/ishu-printed-mens-half-sleeve-round-neck-black-t-shirt-144921077.html'),\n",
              " (\"Armure Men's Grey Round Neck T-Shirts\",\n",
              "  'Armure Product Id : 150502560',\n",
              "  '₹176',\n",
              "  ['S', 'M', 'L', 'XL'],\n",
              "  ['Prints & Patterns : Self Design', 'Color Family : Grey'],\n",
              "  'https://www.shopclues.com/armure-mens-grey-round-neck-t-shirts-150502560.html'),\n",
              " ('Funky Guys Skyblue Round Neck Tshirt For Men',\n",
              "  'Funky Guys Product Id : 143047348',\n",
              "  '₹178',\n",
              "  ['M', 'L', 'XL', 'XXL'],\n",
              "  ['Prints & Patterns : Solid', 'Color Family : Sky Blue'],\n",
              "  'https://www.shopclues.com/funky-guys-skyblue-round-neck-slim-fit-tshirt-143047348.html'),\n",
              " ('Are You Vaccinated Black Round Neck T-Shirt For Men',\n",
              "  'Other Manufacturer Product Id : 152434102',\n",
              "  '₹176',\n",
              "  ['', 'M', 'L', 'XL'],\n",
              "  ['Prints & Patterns : Self Design', 'Color Family : Black'],\n",
              "  'https://www.shopclues.com/dri-fit-round-neck-t-shirt-black-polyester-strachable-152434102.html'),\n",
              " ('Stylogue Round Neck Half Sleeve T-shirt For Men',\n",
              "  'Stylogue Product Id : 150492191',\n",
              "  '₹294',\n",
              "  ['M', 'L', 'XL'],\n",
              "  ['Prints & Patterns : Self Design', 'Color Family : Multicolor'],\n",
              "  'https://www.shopclues.com/stylogue-round-neck-half-sleeve-t-shirt-for-men-150492191.html'),\n",
              " ('Stylogue Round Neck Half Sleeve T-shirt For Men',\n",
              "  'Stylogue Product Id : 150492185',\n",
              "  '₹274',\n",
              "  ['M', 'L', 'XL'],\n",
              "  ['Prints & Patterns : Self Design', 'Color Family : Multicolor'],\n",
              "  'https://www.shopclues.com/stylogue-round-neck-half-sleeve-t-shirt-for-men-150492185.html'),\n",
              " ('SquarFeet Maroon Polo T-Shirt For Men',\n",
              "  'SquareFeet Product Id : 124985685',\n",
              "  '₹284',\n",
              "  ['XS'],\n",
              "  ['Prints & Patterns : Solid', 'Color Family : Maroon'],\n",
              "  'https://www.shopclues.com/squarfeet-maroon-polo-tshirt-124985685.html'),\n",
              " ('Smiley Sky Blue Round Neck T-Shirt For Men',\n",
              "  'Smiley Product Id : 152379987',\n",
              "  '₹188',\n",
              "  ['M', 'L', 'XL'],\n",
              "  ['Prints & Patterns : Printed', 'Color Family : Blue'],\n",
              "  'https://www.shopclues.com/pause-blue-solid-cotton-round-neck-slim-fit-long-sleeve-mens-t-shirt-152379987.html'),\n",
              " (\"Ceazar Men's Navy Half henley\",\n",
              "  'Product Id : 147212326',\n",
              "  '₹245',\n",
              "  ['XXL'],\n",
              "  ['Prints & Patterns : Solid', 'Color Family : Navy'],\n",
              "  'https://www.shopclues.com/ceazar-mens-navy-half-henley-147212326.html'),\n",
              " ('CeazarYellow round polyster',\n",
              "  'CEAZAR Product Id : 147319093',\n",
              "  '₹156',\n",
              "  ['M', 'L'],\n",
              "  ['Prints & Patterns : Solid', 'Color Family : Yellow'],\n",
              "  'https://www.shopclues.com/ceazaryellow-round-polyster-147319093.html'),\n",
              " ('BrainBell Casual Double Shade T-shirt For Men',\n",
              "  'Brainbell Product Id : 143127435',\n",
              "  '₹228',\n",
              "  ['', '', 'M', 'L', 'XL'],\n",
              "  ['Prints & Patterns : Self Design', 'Color Family : Multicolor'],\n",
              "  'https://www.shopclues.com/brainbell-casual-double-shade-t-shirt-for-men-143127435.html'),\n",
              " ('Concepts Yellow And Black Cotton Printed Tshirt',\n",
              "  'Concepts Product Id : 148282392',\n",
              "  '₹264',\n",
              "  ['', '38', '40', '42', '44', '46'],\n",
              "  ['Prints & Patterns : Printed', 'Color Family : Multicolor'],\n",
              "  'https://www.shopclues.com/concepts-yellow-and-black-cotton-printed-tshirt-148282392.html'),\n",
              " (\"Grand Bear Men's Yellow Cream Round Neck T-Shirt\",\n",
              "  'Grand Bear Product Id : 85624145',\n",
              "  '₹264',\n",
              "  ['38'],\n",
              "  ['Prints & Patterns : Solid',\n",
              "   'Color Family : Cream',\n",
              "   'Color Family : Yellow',\n",
              "   'More Specification'],\n",
              "  'https://www.shopclues.com/grand-bear-polo-t-shirt-for-men-5.html'),\n",
              " ('Outlaws Black-Jonny Neck T-Shirt',\n",
              "  'Outlaws Product Id : 152262058',\n",
              "  '₹258',\n",
              "  ['M', 'L'],\n",
              "  ['Prints & Patterns : Solid', 'Color Family : Black'],\n",
              "  'https://www.shopclues.com/outlaws-black-jonny-neck-t-shirt-1-year-warranty-152262058.html')]"
            ]
          },
          "metadata": {},
          "execution_count": 94
        }
      ]
    },
    {
      "cell_type": "code",
      "source": [
        "import pandas as pd \n",
        "df = pd.DataFrame(flist) #creating a dataframe for 'flist'\n",
        "df.to_csv('scrapped.csv', index=False, header=['Name','Product Id','Price','Sizes Available','Print Pattern & Color Family','Link']) #saving as csv file with column headers"
      ],
      "metadata": {
        "id": "tHkq8Qp7Scu6"
      },
      "execution_count": null,
      "outputs": []
    },
    {
      "cell_type": "code",
      "source": [
        "data=pd.read_csv('scrapped.csv') #reading csv file"
      ],
      "metadata": {
        "id": "sG3XZJ0sSss5"
      },
      "execution_count": null,
      "outputs": []
    },
    {
      "cell_type": "code",
      "source": [
        "data.head(10)"
      ],
      "metadata": {
        "colab": {
          "base_uri": "https://localhost:8080/",
          "height": 407
        },
        "id": "SPFOGsPXTCBV",
        "outputId": "bac7dfe8-4bf8-40e8-962f-cb70b2713157"
      },
      "execution_count": null,
      "outputs": [
        {
          "output_type": "execute_result",
          "data": {
            "text/html": [
              "\n",
              "  <div id=\"df-872ccba8-ca71-4105-a36f-fb996e7080a8\">\n",
              "    <div class=\"colab-df-container\">\n",
              "      <div>\n",
              "<style scoped>\n",
              "    .dataframe tbody tr th:only-of-type {\n",
              "        vertical-align: middle;\n",
              "    }\n",
              "\n",
              "    .dataframe tbody tr th {\n",
              "        vertical-align: top;\n",
              "    }\n",
              "\n",
              "    .dataframe thead th {\n",
              "        text-align: right;\n",
              "    }\n",
              "</style>\n",
              "<table border=\"1\" class=\"dataframe\">\n",
              "  <thead>\n",
              "    <tr style=\"text-align: right;\">\n",
              "      <th></th>\n",
              "      <th>Name</th>\n",
              "      <th>Product Id</th>\n",
              "      <th>Price</th>\n",
              "      <th>Sizes Available</th>\n",
              "      <th>Print Pattern &amp; Color Family</th>\n",
              "      <th>Link</th>\n",
              "    </tr>\n",
              "  </thead>\n",
              "  <tbody>\n",
              "    <tr>\n",
              "      <th>0</th>\n",
              "      <td>CH FASHION - 2844 Men Teal Green Mustard Yello...</td>\n",
              "      <td>CH Fashions Product Id : 150598541</td>\n",
              "      <td>₹397</td>\n",
              "      <td>['S', 'M', 'L', 'XL', 'XXL']</td>\n",
              "      <td>['Prints &amp; Patterns : Block Print', 'Color Fam...</td>\n",
              "      <td>https://www.shopclues.com/ch-fashion-2844-men-...</td>\n",
              "    </tr>\n",
              "    <tr>\n",
              "      <th>1</th>\n",
              "      <td>LE BOURGEOIS Men's White Polkadot Round Neck T...</td>\n",
              "      <td>Product Id : 133316160</td>\n",
              "      <td>₹470</td>\n",
              "      <td>['S', 'M', 'L', 'XL']</td>\n",
              "      <td>['Prints &amp; Patterns : Polkadot', 'Color Family...</td>\n",
              "      <td>https://www.shopclues.com/le-bourgeois-mens-wh...</td>\n",
              "    </tr>\n",
              "    <tr>\n",
              "      <th>2</th>\n",
              "      <td>SKYBEN premium quality tshirt with comfort fit...</td>\n",
              "      <td>Skyben Product Id : 152031699</td>\n",
              "      <td>₹225</td>\n",
              "      <td>['XS', 'S', 'M', 'L', 'XL', 'XXL']</td>\n",
              "      <td>['Prints &amp; Patterns : Printed', 'Color Family ...</td>\n",
              "      <td>https://www.shopclues.com/skyben-premium-quali...</td>\n",
              "    </tr>\n",
              "    <tr>\n",
              "      <th>3</th>\n",
              "      <td>LE Bourgeois Navy Blue V-Neck Half Sleeve T-Sh...</td>\n",
              "      <td>Product Id : 101500133</td>\n",
              "      <td>₹460</td>\n",
              "      <td>['S', 'L', 'XL']</td>\n",
              "      <td>['Prints &amp; Patterns : Solid', 'Color Family : ...</td>\n",
              "      <td>https://www.shopclues.com/le-bourgeois-navy-bl...</td>\n",
              "    </tr>\n",
              "    <tr>\n",
              "      <th>4</th>\n",
              "      <td>29K Men Black Round Neck T-Shirt</td>\n",
              "      <td>29K Product Id : 150343301</td>\n",
              "      <td>₹208</td>\n",
              "      <td>['S', 'M', 'L', 'XL']</td>\n",
              "      <td>['Prints &amp; Patterns : Printed', 'Color Family ...</td>\n",
              "      <td>https://www.shopclues.com/stylesmyth-best-sell...</td>\n",
              "    </tr>\n",
              "    <tr>\n",
              "      <th>5</th>\n",
              "      <td>KETEX White Slim Fit Polo T Shirt</td>\n",
              "      <td>Ketex Product Id : 123994723</td>\n",
              "      <td>₹198</td>\n",
              "      <td>['', '', 'S', 'M', 'L', 'XL', 'XXL']</td>\n",
              "      <td>['Prints &amp; Patterns : Solid', 'Color Family : ...</td>\n",
              "      <td>https://www.shopclues.com/concepts-white-slim-...</td>\n",
              "    </tr>\n",
              "    <tr>\n",
              "      <th>6</th>\n",
              "      <td>ISHU Printed Men Half Sleeve Round Neck Nylon ...</td>\n",
              "      <td>ISHU Product Id : 144921077</td>\n",
              "      <td>₹248</td>\n",
              "      <td>['S', 'M', 'L', 'XL']</td>\n",
              "      <td>['Prints &amp; Patterns : Printed', 'Color Family ...</td>\n",
              "      <td>https://www.shopclues.com/ishu-printed-mens-ha...</td>\n",
              "    </tr>\n",
              "    <tr>\n",
              "      <th>7</th>\n",
              "      <td>Armure Men's Grey Round Neck T-Shirts</td>\n",
              "      <td>Armure Product Id : 150502560</td>\n",
              "      <td>₹176</td>\n",
              "      <td>['S', 'M', 'L', 'XL']</td>\n",
              "      <td>['Prints &amp; Patterns : Self Design', 'Color Fam...</td>\n",
              "      <td>https://www.shopclues.com/armure-mens-grey-rou...</td>\n",
              "    </tr>\n",
              "    <tr>\n",
              "      <th>8</th>\n",
              "      <td>Funky Guys Skyblue Round Neck Tshirt For Men</td>\n",
              "      <td>Funky Guys Product Id : 143047348</td>\n",
              "      <td>₹178</td>\n",
              "      <td>['M', 'L', 'XL', 'XXL']</td>\n",
              "      <td>['Prints &amp; Patterns : Solid', 'Color Family : ...</td>\n",
              "      <td>https://www.shopclues.com/funky-guys-skyblue-r...</td>\n",
              "    </tr>\n",
              "    <tr>\n",
              "      <th>9</th>\n",
              "      <td>Are You Vaccinated Black Round Neck T-Shirt Fo...</td>\n",
              "      <td>Other Manufacturer Product Id : 152434102</td>\n",
              "      <td>₹176</td>\n",
              "      <td>['', 'M', 'L', 'XL']</td>\n",
              "      <td>['Prints &amp; Patterns : Self Design', 'Color Fam...</td>\n",
              "      <td>https://www.shopclues.com/dri-fit-round-neck-t...</td>\n",
              "    </tr>\n",
              "  </tbody>\n",
              "</table>\n",
              "</div>\n",
              "      <button class=\"colab-df-convert\" onclick=\"convertToInteractive('df-872ccba8-ca71-4105-a36f-fb996e7080a8')\"\n",
              "              title=\"Convert this dataframe to an interactive table.\"\n",
              "              style=\"display:none;\">\n",
              "        \n",
              "  <svg xmlns=\"http://www.w3.org/2000/svg\" height=\"24px\"viewBox=\"0 0 24 24\"\n",
              "       width=\"24px\">\n",
              "    <path d=\"M0 0h24v24H0V0z\" fill=\"none\"/>\n",
              "    <path d=\"M18.56 5.44l.94 2.06.94-2.06 2.06-.94-2.06-.94-.94-2.06-.94 2.06-2.06.94zm-11 1L8.5 8.5l.94-2.06 2.06-.94-2.06-.94L8.5 2.5l-.94 2.06-2.06.94zm10 10l.94 2.06.94-2.06 2.06-.94-2.06-.94-.94-2.06-.94 2.06-2.06.94z\"/><path d=\"M17.41 7.96l-1.37-1.37c-.4-.4-.92-.59-1.43-.59-.52 0-1.04.2-1.43.59L10.3 9.45l-7.72 7.72c-.78.78-.78 2.05 0 2.83L4 21.41c.39.39.9.59 1.41.59.51 0 1.02-.2 1.41-.59l7.78-7.78 2.81-2.81c.8-.78.8-2.07 0-2.86zM5.41 20L4 18.59l7.72-7.72 1.47 1.35L5.41 20z\"/>\n",
              "  </svg>\n",
              "      </button>\n",
              "      \n",
              "  <style>\n",
              "    .colab-df-container {\n",
              "      display:flex;\n",
              "      flex-wrap:wrap;\n",
              "      gap: 12px;\n",
              "    }\n",
              "\n",
              "    .colab-df-convert {\n",
              "      background-color: #E8F0FE;\n",
              "      border: none;\n",
              "      border-radius: 50%;\n",
              "      cursor: pointer;\n",
              "      display: none;\n",
              "      fill: #1967D2;\n",
              "      height: 32px;\n",
              "      padding: 0 0 0 0;\n",
              "      width: 32px;\n",
              "    }\n",
              "\n",
              "    .colab-df-convert:hover {\n",
              "      background-color: #E2EBFA;\n",
              "      box-shadow: 0px 1px 2px rgba(60, 64, 67, 0.3), 0px 1px 3px 1px rgba(60, 64, 67, 0.15);\n",
              "      fill: #174EA6;\n",
              "    }\n",
              "\n",
              "    [theme=dark] .colab-df-convert {\n",
              "      background-color: #3B4455;\n",
              "      fill: #D2E3FC;\n",
              "    }\n",
              "\n",
              "    [theme=dark] .colab-df-convert:hover {\n",
              "      background-color: #434B5C;\n",
              "      box-shadow: 0px 1px 3px 1px rgba(0, 0, 0, 0.15);\n",
              "      filter: drop-shadow(0px 1px 2px rgba(0, 0, 0, 0.3));\n",
              "      fill: #FFFFFF;\n",
              "    }\n",
              "  </style>\n",
              "\n",
              "      <script>\n",
              "        const buttonEl =\n",
              "          document.querySelector('#df-872ccba8-ca71-4105-a36f-fb996e7080a8 button.colab-df-convert');\n",
              "        buttonEl.style.display =\n",
              "          google.colab.kernel.accessAllowed ? 'block' : 'none';\n",
              "\n",
              "        async function convertToInteractive(key) {\n",
              "          const element = document.querySelector('#df-872ccba8-ca71-4105-a36f-fb996e7080a8');\n",
              "          const dataTable =\n",
              "            await google.colab.kernel.invokeFunction('convertToInteractive',\n",
              "                                                     [key], {});\n",
              "          if (!dataTable) return;\n",
              "\n",
              "          const docLinkHtml = 'Like what you see? Visit the ' +\n",
              "            '<a target=\"_blank\" href=https://colab.research.google.com/notebooks/data_table.ipynb>data table notebook</a>'\n",
              "            + ' to learn more about interactive tables.';\n",
              "          element.innerHTML = '';\n",
              "          dataTable['output_type'] = 'display_data';\n",
              "          await google.colab.output.renderOutput(dataTable, element);\n",
              "          const docLink = document.createElement('div');\n",
              "          docLink.innerHTML = docLinkHtml;\n",
              "          element.appendChild(docLink);\n",
              "        }\n",
              "      </script>\n",
              "    </div>\n",
              "  </div>\n",
              "  "
            ],
            "text/plain": [
              "                                                Name  ...                                               Link\n",
              "0  CH FASHION - 2844 Men Teal Green Mustard Yello...  ...  https://www.shopclues.com/ch-fashion-2844-men-...\n",
              "1  LE BOURGEOIS Men's White Polkadot Round Neck T...  ...  https://www.shopclues.com/le-bourgeois-mens-wh...\n",
              "2  SKYBEN premium quality tshirt with comfort fit...  ...  https://www.shopclues.com/skyben-premium-quali...\n",
              "3  LE Bourgeois Navy Blue V-Neck Half Sleeve T-Sh...  ...  https://www.shopclues.com/le-bourgeois-navy-bl...\n",
              "4                   29K Men Black Round Neck T-Shirt  ...  https://www.shopclues.com/stylesmyth-best-sell...\n",
              "5                  KETEX White Slim Fit Polo T Shirt  ...  https://www.shopclues.com/concepts-white-slim-...\n",
              "6  ISHU Printed Men Half Sleeve Round Neck Nylon ...  ...  https://www.shopclues.com/ishu-printed-mens-ha...\n",
              "7              Armure Men's Grey Round Neck T-Shirts  ...  https://www.shopclues.com/armure-mens-grey-rou...\n",
              "8       Funky Guys Skyblue Round Neck Tshirt For Men  ...  https://www.shopclues.com/funky-guys-skyblue-r...\n",
              "9  Are You Vaccinated Black Round Neck T-Shirt Fo...  ...  https://www.shopclues.com/dri-fit-round-neck-t...\n",
              "\n",
              "[10 rows x 6 columns]"
            ]
          },
          "metadata": {},
          "execution_count": 104
        }
      ]
    },
    {
      "cell_type": "code",
      "source": [
        ""
      ],
      "metadata": {
        "id": "HV_564QQTEkM"
      },
      "execution_count": null,
      "outputs": []
    }
  ]
}